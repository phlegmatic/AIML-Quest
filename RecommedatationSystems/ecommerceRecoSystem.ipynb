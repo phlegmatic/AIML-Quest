{
 "cells": [
  {
   "cell_type": "markdown",
   "metadata": {},
   "source": [
    "# Data Description:\n",
    "Amazon Reviews data ( data source ) The repository has several\n",
    "datasets. For this case study, we are using the Electronics\n",
    "dataset.\n",
    "\n",
    "# Domain:\n",
    "E-commerce\n",
    "\n",
    "# Objective:\n",
    "Online E-commerce websites like Amazon, Flipkart uses different recommendation models to provide different suggestions to different users. Amazon currently uses item-to-item collaborative filtering, which scales to massive data sets and produces high-quality recommendations in real-time."
   ]
  },
  {
   "cell_type": "code",
   "execution_count": 1,
   "metadata": {},
   "outputs": [],
   "source": [
    "###  Import the necessary libraries\n",
    "import numpy as np\n",
    "import pandas as pd\n",
    "import matplotlib.pyplot as plt\n",
    "import seaborn as sns\n",
    "import scipy\n",
    "import random\n",
    "sns.set(rc={'figure.figsize':(13.7,8.27)}) # setting constant to increase seaborn graph sizes"
   ]
  },
  {
   "cell_type": "code",
   "execution_count": 2,
   "metadata": {},
   "outputs": [
    {
     "data": {
      "text/html": [
       "<div>\n",
       "<style scoped>\n",
       "    .dataframe tbody tr th:only-of-type {\n",
       "        vertical-align: middle;\n",
       "    }\n",
       "\n",
       "    .dataframe tbody tr th {\n",
       "        vertical-align: top;\n",
       "    }\n",
       "\n",
       "    .dataframe thead th {\n",
       "        text-align: right;\n",
       "    }\n",
       "</style>\n",
       "<table border=\"1\" class=\"dataframe\">\n",
       "  <thead>\n",
       "    <tr style=\"text-align: right;\">\n",
       "      <th></th>\n",
       "      <th>AKM1MP6P0OYPR</th>\n",
       "      <th>132793040</th>\n",
       "      <th>5</th>\n",
       "      <th>1</th>\n",
       "    </tr>\n",
       "  </thead>\n",
       "  <tbody>\n",
       "    <tr>\n",
       "      <th>0</th>\n",
       "      <td>A2CX7LUOHB2NDG</td>\n",
       "      <td>321732944</td>\n",
       "      <td>5</td>\n",
       "      <td>NaN</td>\n",
       "    </tr>\n",
       "    <tr>\n",
       "      <th>1</th>\n",
       "      <td>A2NWSAGRHCP8N5</td>\n",
       "      <td>439886341</td>\n",
       "      <td>1</td>\n",
       "      <td>NaN</td>\n",
       "    </tr>\n",
       "    <tr>\n",
       "      <th>2</th>\n",
       "      <td>A2WNBOD3WNDNKT</td>\n",
       "      <td>439886341</td>\n",
       "      <td>3</td>\n",
       "      <td>NaN</td>\n",
       "    </tr>\n",
       "    <tr>\n",
       "      <th>3</th>\n",
       "      <td>A1GI0U4ZRJA8WN</td>\n",
       "      <td>439886341</td>\n",
       "      <td>1</td>\n",
       "      <td>NaN</td>\n",
       "    </tr>\n",
       "    <tr>\n",
       "      <th>4</th>\n",
       "      <td>A1QGNMC6O1VW39</td>\n",
       "      <td>511189877</td>\n",
       "      <td>5</td>\n",
       "      <td>NaN</td>\n",
       "    </tr>\n",
       "  </tbody>\n",
       "</table>\n",
       "</div>"
      ],
      "text/plain": [
       "    AKM1MP6P0OYPR  132793040  5   1\n",
       "0  A2CX7LUOHB2NDG  321732944  5 NaN\n",
       "1  A2NWSAGRHCP8N5  439886341  1 NaN\n",
       "2  A2WNBOD3WNDNKT  439886341  3 NaN\n",
       "3  A1GI0U4ZRJA8WN  439886341  1 NaN\n",
       "4  A1QGNMC6O1VW39  511189877  5 NaN"
      ]
     },
     "execution_count": 2,
     "metadata": {},
     "output_type": "execute_result"
    }
   ],
   "source": [
    "### 2. Read the data as a data frame\n",
    "origRatingDf = pd.read_csv('ratings_Electronics.csv')\n",
    "origRatingDf.head(5)"
   ]
  },
  {
   "cell_type": "markdown",
   "metadata": {},
   "source": [
    "# Attribute Information:\n",
    "- ● userId : Every user identified with a unique id\n",
    "- ● productId : Every product identified with a unique id\n",
    "- ● Rating : Rating of the corresponding product by the corresponding user\n",
    "- ● timestamp : Time of the rating ( ignore this columnfor this exercise)"
   ]
  },
  {
   "cell_type": "code",
   "execution_count": 3,
   "metadata": {},
   "outputs": [
    {
     "data": {
      "text/html": [
       "<div>\n",
       "<style scoped>\n",
       "    .dataframe tbody tr th:only-of-type {\n",
       "        vertical-align: middle;\n",
       "    }\n",
       "\n",
       "    .dataframe tbody tr th {\n",
       "        vertical-align: top;\n",
       "    }\n",
       "\n",
       "    .dataframe thead th {\n",
       "        text-align: right;\n",
       "    }\n",
       "</style>\n",
       "<table border=\"1\" class=\"dataframe\">\n",
       "  <thead>\n",
       "    <tr style=\"text-align: right;\">\n",
       "      <th></th>\n",
       "      <th>userid</th>\n",
       "      <th>productid</th>\n",
       "      <th>rating</th>\n",
       "    </tr>\n",
       "  </thead>\n",
       "  <tbody>\n",
       "    <tr>\n",
       "      <th>0</th>\n",
       "      <td>A2CX7LUOHB2NDG</td>\n",
       "      <td>321732944</td>\n",
       "      <td>5</td>\n",
       "    </tr>\n",
       "    <tr>\n",
       "      <th>1</th>\n",
       "      <td>A2NWSAGRHCP8N5</td>\n",
       "      <td>439886341</td>\n",
       "      <td>1</td>\n",
       "    </tr>\n",
       "    <tr>\n",
       "      <th>2</th>\n",
       "      <td>A2WNBOD3WNDNKT</td>\n",
       "      <td>439886341</td>\n",
       "      <td>3</td>\n",
       "    </tr>\n",
       "    <tr>\n",
       "      <th>3</th>\n",
       "      <td>A1GI0U4ZRJA8WN</td>\n",
       "      <td>439886341</td>\n",
       "      <td>1</td>\n",
       "    </tr>\n",
       "    <tr>\n",
       "      <th>4</th>\n",
       "      <td>A1QGNMC6O1VW39</td>\n",
       "      <td>511189877</td>\n",
       "      <td>5</td>\n",
       "    </tr>\n",
       "  </tbody>\n",
       "</table>\n",
       "</div>"
      ],
      "text/plain": [
       "           userid  productid  rating\n",
       "0  A2CX7LUOHB2NDG  321732944       5\n",
       "1  A2NWSAGRHCP8N5  439886341       1\n",
       "2  A2WNBOD3WNDNKT  439886341       3\n",
       "3  A1GI0U4ZRJA8WN  439886341       1\n",
       "4  A1QGNMC6O1VW39  511189877       5"
      ]
     },
     "execution_count": 3,
     "metadata": {},
     "output_type": "execute_result"
    }
   ],
   "source": [
    "# 1. Read and explore the given dataset. (Rename column/add headers, plot histograms, find data characteristics) - (2.5 Marks)\n",
    "origRatingDf.columns = ['userid', 'productid', 'rating', 'timestamp']\n",
    "del origRatingDf['timestamp']\n",
    "origRatingDf.head(5)"
   ]
  },
  {
   "cell_type": "code",
   "execution_count": 4,
   "metadata": {},
   "outputs": [
    {
     "name": "stdout",
     "output_type": "stream",
     "text": [
      "Size of dataframe is \u001b[1m3145725\u001b[0m\n",
      "Shape(#rows,#columns) of dataframe is \u001b[1m(1048575, 3)\u001b[0m\n",
      "Dataframe information \n",
      "\n",
      "<class 'pandas.core.frame.DataFrame'>\n",
      "RangeIndex: 1048575 entries, 0 to 1048574\n",
      "Data columns (total 3 columns):\n",
      "userid       1048575 non-null object\n",
      "productid    1048575 non-null object\n",
      "rating       1048575 non-null int64\n",
      "dtypes: int64(1), object(2)\n",
      "memory usage: 24.0+ MB\n",
      "None\n"
     ]
    }
   ],
   "source": [
    "class color:\n",
    "   PURPLE = '\\033[95m'\n",
    "   CYAN = '\\033[96m'\n",
    "   DARKCYAN = '\\033[36m'\n",
    "   BLUE = '\\033[94m'\n",
    "   GREEN = '\\033[92m'\n",
    "   YELLOW = '\\033[93m'\n",
    "   RED = '\\033[91m'\n",
    "   BOLD = '\\033[1m'\n",
    "   UNDERLINE = '\\033[4m'\n",
    "   END = '\\033[0m'\n",
    "\n",
    "print(\"Size of dataframe is \" +color.BOLD+ format(origRatingDf.size) + color.END)\n",
    "print(\"Shape(#rows,#columns) of dataframe is \"+color.BOLD+ format(origRatingDf.shape) + color.END)\n",
    "print(\"Dataframe information \\n\")\n",
    "print(origRatingDf.info())"
   ]
  },
  {
   "cell_type": "code",
   "execution_count": 5,
   "metadata": {},
   "outputs": [
    {
     "data": {
      "text/plain": [
       "userid       0\n",
       "productid    0\n",
       "rating       0\n",
       "dtype: int64"
      ]
     },
     "execution_count": 5,
     "metadata": {},
     "output_type": "execute_result"
    }
   ],
   "source": [
    "#checking for missing values\n",
    "origRatingDf.isnull().sum()"
   ]
  },
  {
   "cell_type": "code",
   "execution_count": 6,
   "metadata": {},
   "outputs": [
    {
     "data": {
      "text/html": [
       "<div>\n",
       "<style scoped>\n",
       "    .dataframe tbody tr th:only-of-type {\n",
       "        vertical-align: middle;\n",
       "    }\n",
       "\n",
       "    .dataframe tbody tr th {\n",
       "        vertical-align: top;\n",
       "    }\n",
       "\n",
       "    .dataframe thead th {\n",
       "        text-align: right;\n",
       "    }\n",
       "</style>\n",
       "<table border=\"1\" class=\"dataframe\">\n",
       "  <thead>\n",
       "    <tr style=\"text-align: right;\">\n",
       "      <th></th>\n",
       "      <th>count</th>\n",
       "      <th>mean</th>\n",
       "      <th>std</th>\n",
       "      <th>min</th>\n",
       "      <th>25%</th>\n",
       "      <th>50%</th>\n",
       "      <th>75%</th>\n",
       "      <th>max</th>\n",
       "    </tr>\n",
       "  </thead>\n",
       "  <tbody>\n",
       "    <tr>\n",
       "      <th>rating</th>\n",
       "      <td>1048575.0</td>\n",
       "      <td>3.973379</td>\n",
       "      <td>1.399329</td>\n",
       "      <td>1.0</td>\n",
       "      <td>3.0</td>\n",
       "      <td>5.0</td>\n",
       "      <td>5.0</td>\n",
       "      <td>5.0</td>\n",
       "    </tr>\n",
       "  </tbody>\n",
       "</table>\n",
       "</div>"
      ],
      "text/plain": [
       "            count      mean       std  min  25%  50%  75%  max\n",
       "rating  1048575.0  3.973379  1.399329  1.0  3.0  5.0  5.0  5.0"
      ]
     },
     "execution_count": 6,
     "metadata": {},
     "output_type": "execute_result"
    }
   ],
   "source": [
    "## Dataset has no missing values. 5 point summary of numerical attributes\n",
    "origRatingDf.describe().transpose()"
   ]
  },
  {
   "cell_type": "code",
   "execution_count": 7,
   "metadata": {},
   "outputs": [
    {
     "name": "stdout",
     "output_type": "stream",
     "text": [
      "possible rating values :  [5 1 3 2 4]\n"
     ]
    },
    {
     "data": {
      "text/plain": [
       "5    565636\n",
       "4    208535\n",
       "1    128251\n",
       "3     83509\n",
       "2     62644\n",
       "Name: rating, dtype: int64"
      ]
     },
     "execution_count": 7,
     "metadata": {},
     "output_type": "execute_result"
    }
   ],
   "source": [
    "print('possible rating values : ',origRatingDf['rating'].unique())\n",
    "# rating value counts\n",
    "origRatingDf['rating'].value_counts()"
   ]
  },
  {
   "cell_type": "code",
   "execution_count": 8,
   "metadata": {},
   "outputs": [
    {
     "data": {
      "text/plain": [
       "array([[<matplotlib.axes._subplots.AxesSubplot object at 0x0000020253A80EB8>]],\n",
       "      dtype=object)"
      ]
     },
     "execution_count": 8,
     "metadata": {},
     "output_type": "execute_result"
    },
    {
     "data": {
      "image/png": "[encoded data removed]",
      "text/plain": [
       "<Figure size 432x288 with 1 Axes>"
      ]
     },
     "metadata": {
      "needs_background": "light"
     },
     "output_type": "display_data"
    }
   ],
   "source": [
    "origRatingDf.hist()"
   ]
  },
  {
   "cell_type": "code",
   "execution_count": 9,
   "metadata": {},
   "outputs": [
    {
     "name": "stdout",
     "output_type": "stream",
     "text": [
      "<class 'pandas.core.frame.DataFrame'>\n",
      "Int64Index: 3456 entries, 2161 to 1048157\n",
      "Data columns (total 3 columns):\n",
      "userid       3456 non-null object\n",
      "productid    3456 non-null object\n",
      "rating       3456 non-null int64\n",
      "dtypes: int64(1), object(2)\n",
      "memory usage: 108.0+ KB\n"
     ]
    }
   ],
   "source": [
    "#we can see that we have more ratings count for high ratings such as 4 and 5 \n",
    "#2. Take a subset of the dataset to make it less sparse/ denser.( For example, keep the users only who has given 50 or more number of ratings ) - (2.5 Marks)\n",
    "filteredRatingdf = origRatingDf.groupby('userid').filter(lambda x: len(x) >= 50)\n",
    "filteredRatingdf.info()"
   ]
  },
  {
   "cell_type": "code",
   "execution_count": 10,
   "metadata": {},
   "outputs": [
    {
     "data": {
      "text/html": [
       "<div>\n",
       "<style scoped>\n",
       "    .dataframe tbody tr th:only-of-type {\n",
       "        vertical-align: middle;\n",
       "    }\n",
       "\n",
       "    .dataframe tbody tr th {\n",
       "        vertical-align: top;\n",
       "    }\n",
       "\n",
       "    .dataframe thead th {\n",
       "        text-align: right;\n",
       "    }\n",
       "</style>\n",
       "<table border=\"1\" class=\"dataframe\">\n",
       "  <thead>\n",
       "    <tr style=\"text-align: right;\">\n",
       "      <th></th>\n",
       "      <th>count</th>\n",
       "      <th>mean</th>\n",
       "      <th>std</th>\n",
       "      <th>min</th>\n",
       "      <th>25%</th>\n",
       "      <th>50%</th>\n",
       "      <th>75%</th>\n",
       "      <th>max</th>\n",
       "    </tr>\n",
       "  </thead>\n",
       "  <tbody>\n",
       "    <tr>\n",
       "      <th>rating</th>\n",
       "      <td>3456.0</td>\n",
       "      <td>4.222801</td>\n",
       "      <td>1.137754</td>\n",
       "      <td>1.0</td>\n",
       "      <td>4.0</td>\n",
       "      <td>5.0</td>\n",
       "      <td>5.0</td>\n",
       "      <td>5.0</td>\n",
       "    </tr>\n",
       "  </tbody>\n",
       "</table>\n",
       "</div>"
      ],
      "text/plain": [
       "         count      mean       std  min  25%  50%  75%  max\n",
       "rating  3456.0  4.222801  1.137754  1.0  4.0  5.0  5.0  5.0"
      ]
     },
     "execution_count": 10,
     "metadata": {},
     "output_type": "execute_result"
    }
   ],
   "source": [
    "filteredRatingdf.describe().transpose()"
   ]
  },
  {
   "cell_type": "code",
   "execution_count": 11,
   "metadata": {},
   "outputs": [
    {
     "data": {
      "text/plain": [
       "userid\n",
       "A5JLAU2ARJ0BO     412\n",
       "A231WM2Z2JL0U3    249\n",
       "A25HBO5V8S8SEA    164\n",
       "A6FIAB28IS79      146\n",
       "AT6CZDCP4TRGA     128\n",
       "AKT8TGIT6VVZ5     122\n",
       "A11D1KHM7DVOQK    112\n",
       "A2B7BUH8834Y6M    103\n",
       "A3OXHLG6DIBRW8     95\n",
       "A203OCQQ12MAVT     90\n",
       "A2R6RA8FRBS608     88\n",
       "A2AEZQ3DGBBLPR     85\n",
       "A680RUE1FDO8B      78\n",
       "A1F9Z42CFF9IAY     76\n",
       "AGHZXQL9F94T9      75\n",
       "A1FR68QH6Z4YZM     75\n",
       "A1MJMYLRTZ76ZX     74\n",
       "A1JWSDDIH5Z7DV     72\n",
       "A7Y6AVS576M03      70\n",
       "A1435P5AMCPB3X     69\n",
       "A149RNR5RH19YY     68\n",
       "A12DLJESJKM1OQ     65\n",
       "ABH9D1TEOJ56E      64\n",
       "AWPODHOB4GFWL      64\n",
       "A2CL818RN52NWN     64\n",
       "A1RPTVW5VEOSI      63\n",
       "A2AY4YUOX2N1BQ     63\n",
       "A2XRMQA6PJ5ZJ8     63\n",
       "A38QEATH3NODFM     61\n",
       "A1ODOGXEYECQQ8     60\n",
       "AGXV8E7XK9J6H      59\n",
       "AT2J7H5TRZM8Z      57\n",
       "A1VQHH85U7PX0      57\n",
       "A2BGZ52M908MJY     54\n",
       "A15QYHQH80W30L     54\n",
       "A3NCIN6TNL0MGA     54\n",
       "ALUNVOQRXOZIA      53\n",
       "A250AXLRBVYKB4     50\n",
       "Name: rating, dtype: int64"
      ]
     },
     "execution_count": 11,
     "metadata": {},
     "output_type": "execute_result"
    }
   ],
   "source": [
    "# Users found with more than 50 ratings\n",
    "filteredRatingdf.groupby('userid')['rating'].count().sort_values(ascending=False)"
   ]
  },
  {
   "cell_type": "code",
   "execution_count": 12,
   "metadata": {},
   "outputs": [
    {
     "data": {
      "text/plain": [
       "productid\n",
       "B0001FV3AK    5.0\n",
       "B00009XW3F    5.0\n",
       "B0000AOWWM    5.0\n",
       "B00004ZCDD    5.0\n",
       "B0000AQFZ9    5.0\n",
       "Name: rating, dtype: float64"
      ]
     },
     "execution_count": 12,
     "metadata": {},
     "output_type": "execute_result"
    }
   ],
   "source": [
    "# Popularity based reccomendation \n",
    "#finding highest mean rated products\n",
    "filteredRatingdf.groupby('productid')['rating'].mean().sort_values(ascending=False).head()"
   ]
  },
  {
   "cell_type": "code",
   "execution_count": 13,
   "metadata": {},
   "outputs": [
    {
     "data": {
      "text/plain": [
       "productid\n",
       "B00004SB92    7\n",
       "B00004ZCJE    5\n",
       "B00008OE6I    5\n",
       "B00005LEN4    5\n",
       "B00007KDVI    5\n",
       "Name: rating, dtype: int64"
      ]
     },
     "execution_count": 13,
     "metadata": {},
     "output_type": "execute_result"
    }
   ],
   "source": [
    "#find products which received most number of ratings\n",
    "filteredRatingdf.groupby('productid')['rating'].count().sort_values(ascending=False).head()"
   ]
  },
  {
   "cell_type": "code",
   "execution_count": 14,
   "metadata": {},
   "outputs": [
    {
     "data": {
      "text/html": [
       "<div>\n",
       "<style scoped>\n",
       "    .dataframe tbody tr th:only-of-type {\n",
       "        vertical-align: middle;\n",
       "    }\n",
       "\n",
       "    .dataframe tbody tr th {\n",
       "        vertical-align: top;\n",
       "    }\n",
       "\n",
       "    .dataframe thead th {\n",
       "        text-align: right;\n",
       "    }\n",
       "</style>\n",
       "<table border=\"1\" class=\"dataframe\">\n",
       "  <thead>\n",
       "    <tr style=\"text-align: right;\">\n",
       "      <th></th>\n",
       "      <th>rating</th>\n",
       "      <th>rating_counts</th>\n",
       "      <th>score</th>\n",
       "    </tr>\n",
       "    <tr>\n",
       "      <th>productid</th>\n",
       "      <th></th>\n",
       "      <th></th>\n",
       "      <th></th>\n",
       "    </tr>\n",
       "  </thead>\n",
       "  <tbody>\n",
       "    <tr>\n",
       "      <th>B00004SB92</th>\n",
       "      <td>4.0</td>\n",
       "      <td>7</td>\n",
       "      <td>28.0</td>\n",
       "    </tr>\n",
       "    <tr>\n",
       "      <th>B00005LEN4</th>\n",
       "      <td>4.8</td>\n",
       "      <td>5</td>\n",
       "      <td>24.0</td>\n",
       "    </tr>\n",
       "    <tr>\n",
       "      <th>B00008OE6I</th>\n",
       "      <td>4.6</td>\n",
       "      <td>5</td>\n",
       "      <td>23.0</td>\n",
       "    </tr>\n",
       "    <tr>\n",
       "      <th>B00004ZCJE</th>\n",
       "      <td>4.6</td>\n",
       "      <td>5</td>\n",
       "      <td>23.0</td>\n",
       "    </tr>\n",
       "    <tr>\n",
       "      <th>B000BKJZ9Q</th>\n",
       "      <td>4.2</td>\n",
       "      <td>5</td>\n",
       "      <td>21.0</td>\n",
       "    </tr>\n",
       "  </tbody>\n",
       "</table>\n",
       "</div>"
      ],
      "text/plain": [
       "            rating  rating_counts  score\n",
       "productid                               \n",
       "B00004SB92     4.0              7   28.0\n",
       "B00005LEN4     4.8              5   24.0\n",
       "B00008OE6I     4.6              5   23.0\n",
       "B00004ZCJE     4.6              5   23.0\n",
       "B000BKJZ9Q     4.2              5   21.0"
      ]
     },
     "execution_count": 14,
     "metadata": {},
     "output_type": "execute_result"
    }
   ],
   "source": [
    "#prepare dataframe having mean and rating count for each product\n",
    "ratings_mean_count = pd.DataFrame(filteredRatingdf.groupby('productid')['rating'].mean())\n",
    "ratings_mean_count['rating_counts'] = pd.DataFrame(filteredRatingdf.groupby('productid')['rating'].count())\n",
    "\n",
    "#caclculating score of each product by multiplying rating and count of ratings received\n",
    "score = ratings_mean_count.rating * ratings_mean_count.rating_counts\n",
    "ratings_mean_count['score'] = score\n",
    "# finding top 5 highest products with higest score\n",
    "popularity_recommendations =ratings_mean_count.sort_values(['score'],ascending=False).head()\n",
    "popularity_recommendations"
   ]
  },
  {
   "cell_type": "code",
   "execution_count": 15,
   "metadata": {},
   "outputs": [],
   "source": [
    "# Use popularity based recommender model to make predictions\n",
    "def recommend(user_id):     \n",
    "    user_recommendations = popularity_recommendations \n",
    "          \n",
    "    #Add user_id column for which the recommendations are being generated \n",
    "    user_recommendations['userId'] = user_id \n",
    "      \n",
    "    #Bring user_id column to the front \n",
    "    cols = user_recommendations.columns.tolist() \n",
    "    cols = cols[-1:] + cols[:-1] \n",
    "    user_recommendations = user_recommendations[cols] \n",
    "          \n",
    "    return user_recommendations"
   ]
  },
  {
   "cell_type": "code",
   "execution_count": 16,
   "metadata": {},
   "outputs": [
    {
     "name": "stdout",
     "output_type": "stream",
     "text": [
      "The list of recommendations for the userId  A2AEZQ3DGBBLPR\n",
      "                    userId  rating  rating_counts  score\n",
      "productid                                               \n",
      "B00004SB92  A2AEZQ3DGBBLPR     4.0              7   28.0\n",
      "B00005LEN4  A2AEZQ3DGBBLPR     4.8              5   24.0\n",
      "B00008OE6I  A2AEZQ3DGBBLPR     4.6              5   23.0\n",
      "B00004ZCJE  A2AEZQ3DGBBLPR     4.6              5   23.0\n",
      "B000BKJZ9Q  A2AEZQ3DGBBLPR     4.2              5   21.0\n",
      "\n",
      "\n",
      "The list of recommendations for the userId  A6FIAB28IS79\n",
      "                  userId  rating  rating_counts  score\n",
      "productid                                             \n",
      "B00004SB92  A6FIAB28IS79     4.0              7   28.0\n",
      "B00005LEN4  A6FIAB28IS79     4.8              5   24.0\n",
      "B00008OE6I  A6FIAB28IS79     4.6              5   23.0\n",
      "B00004ZCJE  A6FIAB28IS79     4.6              5   23.0\n",
      "B000BKJZ9Q  A6FIAB28IS79     4.2              5   21.0\n",
      "\n",
      "\n",
      "The list of recommendations for the userId  AT6CZDCP4TRGA\n",
      "                   userId  rating  rating_counts  score\n",
      "productid                                              \n",
      "B00004SB92  AT6CZDCP4TRGA     4.0              7   28.0\n",
      "B00005LEN4  AT6CZDCP4TRGA     4.8              5   24.0\n",
      "B00008OE6I  AT6CZDCP4TRGA     4.6              5   23.0\n",
      "B00004ZCJE  AT6CZDCP4TRGA     4.6              5   23.0\n",
      "B000BKJZ9Q  AT6CZDCP4TRGA     4.2              5   21.0\n",
      "\n",
      "\n"
     ]
    }
   ],
   "source": [
    "#using our popularity model to return recommendation to users\n",
    "find_recom = ['A2AEZQ3DGBBLPR','A6FIAB28IS79','AT6CZDCP4TRGA']   # This list is user choice.\n",
    "for i in find_recom:\n",
    "    print(\"The list of recommendations for the userId \",i)\n",
    "    print(recommend(i))    \n",
    "    print(\"\\n\")"
   ]
  },
  {
   "cell_type": "code",
   "execution_count": 17,
   "metadata": {},
   "outputs": [],
   "source": [
    "#As we can above see All users get same recommendation as per popularity model."
   ]
  },
  {
   "cell_type": "code",
   "execution_count": 18,
   "metadata": {},
   "outputs": [],
   "source": [
    "#5. Build Collaborative Filtering model.\n",
    "#converting the dataframe to format supported by surprise package\n",
    "from surprise import Reader, Dataset\n",
    "reader = Reader()\n",
    "data = Dataset.load_from_df(filteredRatingdf[['userid', 'productid', 'rating']], reader = reader)"
   ]
  },
  {
   "cell_type": "code",
   "execution_count": 19,
   "metadata": {},
   "outputs": [],
   "source": [
    "#instead of 70:30 split lets use 3 fold cross validation to choose our model first\n",
    "#k-NN Based Algorithms\n",
    "from surprise import KNNBasic, KNNWithMeans, KNNWithZScore\n",
    "from surprise.model_selection import cross_validate\n",
    "knnbasic_cv = cross_validate(KNNBasic(), data, cv=3, n_jobs=5, verbose=False)\n",
    "knnmeans_cv = cross_validate(KNNWithMeans(), data, cv=3, n_jobs=5, verbose=False)\n",
    "knnz_cv = cross_validate(KNNWithZScore(), data, cv=3, n_jobs=5, verbose=False)"
   ]
  },
  {
   "cell_type": "code",
   "execution_count": 20,
   "metadata": {},
   "outputs": [],
   "source": [
    "#Matrix Factorization Based Algorithms\n",
    "from surprise import SVD, SVDpp, NMF\n",
    "svd_cv = cross_validate(SVD(), data, cv=3, n_jobs=5, verbose=False)\n",
    "svdpp_cv = cross_validate(SVDpp(), data, cv=3, n_jobs=5, verbose=False)\n",
    "nmf_cv = cross_validate(NMF(), data, cv=3, n_jobs=5, verbose=False)"
   ]
  },
  {
   "cell_type": "code",
   "execution_count": 21,
   "metadata": {},
   "outputs": [],
   "source": [
    "#Other Collaborative Filtering Algorithms\n",
    "from surprise import SlopeOne, CoClustering\n",
    "slope_cv = cross_validate(SlopeOne(), data, cv=3, n_jobs=5, verbose=False)\n",
    "coclus_cv = cross_validate(CoClustering(), data, cv=3, n_jobs=5, verbose=False)"
   ]
  },
  {
   "cell_type": "code",
   "execution_count": 22,
   "metadata": {},
   "outputs": [
    {
     "name": "stdout",
     "output_type": "stream",
     "text": [
      "Algorithm\t RMSE\t\t MAE\n",
      "\n",
      "KNN Basic \t 1.1872 \t 0.9105\n",
      "KNN Means \t 1.1557 \t 0.8912\n",
      "KNN ZScore \t 1.1617 \t 0.8921\n",
      "\n",
      "SVD \t\t 1.0544 \t 0.798\n",
      "SVDpp \t\t 1.0625 \t 0.8013\n",
      "NMF \t\t 1.2124 \t 0.9533\n",
      "\n",
      "SlopeOne \t 1.1581 \t 0.8963\n",
      "CoClustering \t 1.1791 \t 0.9035\n",
      "\n"
     ]
    }
   ],
   "source": [
    "#Comparison of all algorithms on RMSE and MAE\n",
    "print('Algorithm\\t RMSE\\t\\t MAE')\n",
    "print()\n",
    "print('KNN Basic', '\\t', round(knnbasic_cv['test_rmse'].mean(), 4), '\\t', round(knnbasic_cv['test_mae'].mean(), 4))\n",
    "print('KNN Means', '\\t', round(knnmeans_cv['test_rmse'].mean(), 4), '\\t', round(knnmeans_cv['test_mae'].mean(), 4))\n",
    "print('KNN ZScore', '\\t', round(knnz_cv['test_rmse'].mean(), 4), '\\t', round(knnz_cv['test_mae'].mean(), 4))\n",
    "print()\n",
    "print('SVD', '\\t\\t', round(svd_cv['test_rmse'].mean(), 4), '\\t', round(svd_cv['test_mae'].mean(), 4))\n",
    "print('SVDpp', '\\t\\t', round(svdpp_cv['test_rmse'].mean(), 4), '\\t', round(svdpp_cv['test_mae'].mean(), 4))\n",
    "print('NMF', '\\t\\t', round(nmf_cv['test_rmse'].mean(), 4), '\\t', round(nmf_cv['test_mae'].mean(), 4))\n",
    "print()\n",
    "print('SlopeOne', '\\t', round(slope_cv['test_rmse'].mean(), 4), '\\t', round(slope_cv['test_mae'].mean(), 4))\n",
    "print('CoClustering', '\\t', round(coclus_cv['test_rmse'].mean(), 4), '\\t', round(coclus_cv['test_mae'].mean(), 4))\n",
    "print()"
   ]
  },
  {
   "cell_type": "code",
   "execution_count": 23,
   "metadata": {},
   "outputs": [
    {
     "data": {
      "image/png": "[encoded data removed]",
      "text/plain": [
       "<Figure size 1440x360 with 2 Axes>"
      ]
     },
     "metadata": {
      "needs_background": "light"
     },
     "output_type": "display_data"
    }
   ],
   "source": [
    "x_algo = ['KNN Basic', 'KNN Means', 'KNN ZScore', 'SVD', 'SVDpp', 'NMF', 'SlopeOne', 'CoClustering']\n",
    "all_algos_cv = [knnbasic_cv, knnmeans_cv, knnz_cv, svd_cv, svdpp_cv, nmf_cv, slope_cv, coclus_cv]\n",
    "\n",
    "rmse_cv = [round(res['test_rmse'].mean(), 4) for res in all_algos_cv]\n",
    "mae_cv = [round(res['test_mae'].mean(), 4) for res in all_algos_cv]\n",
    "\n",
    "plt.figure(figsize=(20,5))\n",
    "\n",
    "plt.subplot(1, 2, 1)\n",
    "plt.title('Comparison of Algorithms on RMSE', loc='center', fontsize=15)\n",
    "plt.plot(x_algo, rmse_cv, label='RMSE', color='darkgreen', marker='o')\n",
    "plt.xlabel('Algorithms', fontsize=15)\n",
    "plt.ylabel('RMSE Value', fontsize=15)\n",
    "plt.legend()\n",
    "plt.grid(ls='dashed')\n",
    "\n",
    "plt.subplot(1, 2, 2)\n",
    "plt.title('Comparison of Algorithms on MAE', loc='center', fontsize=15)\n",
    "plt.plot(x_algo, mae_cv, label='MAE', color='navy', marker='o')\n",
    "plt.xlabel('Algorithms', fontsize=15)\n",
    "plt.ylabel('MAE Value', fontsize=15)\n",
    "plt.legend()\n",
    "plt.grid(ls='dashed')\n",
    "\n",
    "plt.show()"
   ]
  },
  {
   "cell_type": "code",
   "execution_count": 24,
   "metadata": {},
   "outputs": [],
   "source": [
    "#Evaluation Results show that SVD is best model as per RMSE and MAE svdpp is 2nd one, knnmeans is 3rd\n",
    "#Let's performa parameter search on SVD,SVDpp\n",
    "# Parameter space\n",
    "from surprise.model_selection import GridSearchCV\n",
    "svd_param_grid = {'n_epochs': [20, 25], \n",
    "                  'lr_all': [0.007, 0.009, 0.01],\n",
    "                  'reg_all': [0.4, 0.6]}\n",
    "\n",
    "svd_gs = GridSearchCV(SVD, svd_param_grid, measures=['rmse', 'mae'], cv=5, n_jobs=5)\n",
    "svd_gs.fit(data)"
   ]
  },
  {
   "cell_type": "code",
   "execution_count": 25,
   "metadata": {},
   "outputs": [
    {
     "name": "stdout",
     "output_type": "stream",
     "text": [
      "SVD   - RMSE: 1.0584 ; MAE: 0.8122\n"
     ]
    }
   ],
   "source": [
    "print('SVD   - RMSE:', round(svd_gs.best_score['rmse'], 4), '; MAE:', round(svd_gs.best_score['mae'], 4))"
   ]
  },
  {
   "cell_type": "code",
   "execution_count": 26,
   "metadata": {},
   "outputs": [
    {
     "name": "stdout",
     "output_type": "stream",
     "text": [
      "RMSE = {'n_epochs': 20, 'lr_all': 0.007, 'reg_all': 0.4}\n",
      "MAE = {'n_epochs': 20, 'lr_all': 0.007, 'reg_all': 0.4}\n"
     ]
    }
   ],
   "source": [
    "#best params SVD\n",
    "print('RMSE =', svd_gs.best_params['rmse'])\n",
    "print('MAE =', svd_gs.best_params['mae'])"
   ]
  },
  {
   "cell_type": "code",
   "execution_count": 27,
   "metadata": {},
   "outputs": [],
   "source": [
    "#grid search for KNNWithMeans\n",
    "param_grid = {'k': [15, 20, 25, 30, 40, 50, 60]}\n",
    "knnmean_gs = GridSearchCV(KNNWithMeans, param_grid, measures=['rmse', 'mae'], cv=5, n_jobs=5)\n",
    "knnmean_gs.fit(data)"
   ]
  },
  {
   "cell_type": "code",
   "execution_count": 28,
   "metadata": {},
   "outputs": [],
   "source": [
    "x = [15, 20, 25, 30, 40, 50, 60]\n",
    "y5 = knnmean_gs.cv_results['mean_test_rmse']\n",
    "y6 = knnmean_gs.cv_results['mean_test_mae']"
   ]
  },
  {
   "cell_type": "code",
   "execution_count": 29,
   "metadata": {},
   "outputs": [
    {
     "data": {
      "image/png": "[encoded data removed]",
      "text/plain": [
       "<Figure size 1296x360 with 2 Axes>"
      ]
     },
     "metadata": {
      "needs_background": "light"
     },
     "output_type": "display_data"
    }
   ],
   "source": [
    "plt.figure(figsize=(18,5))\n",
    "\n",
    "plt.subplot(1, 2, 1)\n",
    "plt.title('K Neighbors vs RMSE', loc='center', fontsize=15)\n",
    "plt.plot(x, y5, label='KNNWithMeans', color='indianred', marker='o')\n",
    "plt.xlabel('K Neighbor', fontsize=15)\n",
    "plt.ylabel('RMSE Value', fontsize=15)\n",
    "plt.legend()\n",
    "plt.grid(ls='dotted')\n",
    "\n",
    "plt.subplot(1, 2, 2)\n",
    "plt.title('K Neighbors vs MAE', loc='center', fontsize=15)\n",
    "plt.plot(x, y6, label='KNNWithMeans', color='darkred', marker='o')\n",
    "plt.xlabel('K Neighbor', fontsize=15)\n",
    "plt.ylabel('MAE Value', fontsize=15)\n",
    "plt.legend()\n",
    "plt.grid(ls='dotted')\n",
    "\n",
    "plt.show()"
   ]
  },
  {
   "cell_type": "code",
   "execution_count": 30,
   "metadata": {},
   "outputs": [],
   "source": [
    "#No real diffeence in RMSE and MAE for diffnerent values of k neighbours"
   ]
  },
  {
   "cell_type": "code",
   "execution_count": 31,
   "metadata": {},
   "outputs": [
    {
     "name": "stdout",
     "output_type": "stream",
     "text": [
      "Accuracy on the trainset:\n",
      "RMSE: 0.8257\n",
      "Accuracy on the testset:\n",
      "RMSE: 1.0955\n"
     ]
    },
    {
     "data": {
      "text/plain": [
       "1.0954917685476686"
      ]
     },
     "execution_count": 31,
     "metadata": {},
     "output_type": "execute_result"
    }
   ],
   "source": [
    "# We can now use the best parameters that should return the best rmse and build prediction\n",
    "from surprise import SVD\n",
    "from surprise import Dataset\n",
    "from surprise import accuracy\n",
    "\n",
    "algo = SVD(n_epochs=20, lr_all=0.009, reg_all=0.4)\n",
    "\n",
    "# shuffle ratings if you want                                              \n",
    "random.shuffle(data.raw_ratings)                                                \n",
    "raw_ratings = data.raw_ratings                                                                           \n",
    "# 70% trainset, 30% testset                                                \n",
    "threshold = int(.7 * len(raw_ratings))                                     \n",
    "trainset_raw_ratings = raw_ratings[:threshold]                             \n",
    "test_raw_ratings = raw_ratings[threshold:]                                 \n",
    "                                                                           \n",
    "data.raw_ratings = trainset_raw_ratings  # data is now your trainset       \n",
    "                                                                           \n",
    "# retrain on the whole train set                                           \n",
    "trainset = data.build_full_trainset()                                      \n",
    "algo.fit(trainset)                                                       \n",
    "                                                                           \n",
    "#now test on the trainset                                                 \n",
    "testset = data.construct_testset(trainset_raw_ratings)                     \n",
    "predictions = algo.test(testset)                                           \n",
    "print('Accuracy on the trainset:')                                         \n",
    "accuracy.rmse(predictions)                                                 \n",
    "                                                                          \n",
    "# now test on the testset                                                  \n",
    "testset = data.construct_testset(test_raw_ratings)                         \n",
    "predictions = algo.test(testset)                                           \n",
    "print('Accuracy on the testset:')                                          \n",
    "accuracy.rmse(predictions)  "
   ]
  },
  {
   "cell_type": "code",
   "execution_count": 33,
   "metadata": {},
   "outputs": [],
   "source": [
    "# #7. Get top - K ( K = 5) recommendations. Since our goal is to recommend new products for each user based on his/her #habits, we will recommend 5 new products. - (7.5 Marks)\n",
    "# recDf = popularity_model.recommend_items(user_id='A250AXLRBVYKB4')   \n",
    "\n",
    "from collections import defaultdict\n",
    "def get_top_n(predictions, n=5):\n",
    "    # First map the predictions to each user.\n",
    "    top_n = defaultdict(list)\n",
    "    for uid, iid, true_r, est, _ in predictions:\n",
    "        top_n[uid].append((iid, est))\n",
    "\n",
    "    # Then sort the predictions for each user and retrieve the k highest ones.\n",
    "    for uid, user_ratings in top_n.items():\n",
    "        user_ratings.sort(key=lambda x: x[1], reverse=True)\n",
    "        top_n[uid] = user_ratings[:n]\n",
    "\n",
    "    return top_n"
   ]
  },
  {
   "cell_type": "code",
   "execution_count": 34,
   "metadata": {},
   "outputs": [
    {
     "name": "stdout",
     "output_type": "stream",
     "text": [
      "A3NCIN6TNL0MGA ['B0006HU49E', 'B000HOJN3O', 'B0000952XU', 'B00009ZY5C', 'B000EPLP3C']\n",
      "A1JWSDDIH5Z7DV ['B0007OW51Q', 'B000GHDPHC', 'B0000631YV', 'B00067AXYU', 'B0006PK8IS']\n",
      "ABH9D1TEOJ56E ['B00008OE6I', 'B00008RHA3', 'B000067VKY', 'B0000D8DM7', 'B000087LII']\n",
      "AT2J7H5TRZM8Z ['B00005QFZG', 'B00005V619', 'B00004VWM3', 'B00006412G', 'B000031KIM']\n",
      "AKT8TGIT6VVZ5 ['B00005LEN4', 'B000021YU8', 'B00014M3XW', 'B00006I53X', 'B00006I5E1']\n",
      "A203OCQQ12MAVT ['B0008D76L0', 'B00008VSL7', 'B0002GRUJ6', 'B000B7PKKW', 'B0000511T7']\n",
      "A5JLAU2ARJ0BO ['B00007H4LM', 'B00004SB92', 'B00006L9CT', 'B00004VX3T', 'B0001G6U5M']\n",
      "A15QYHQH80W30L ['B000BY52NK', 'B00009R8I4', 'B00009R89C', 'B00009R88X', 'B000BH5OW6']\n",
      "A6FIAB28IS79 ['B00005T408', 'B000EOPQ7E', 'B000FQ2JLW', 'B0002L5R78', 'B00005LB8P']\n",
      "A2CL818RN52NWN ['B0008G1RWQ', 'B00018XFAI', 'B000083CUA', 'B00068IKXK', 'B00018XFCQ']\n",
      "A2B7BUH8834Y6M ['B00004SB92', 'B0000899ZA', 'B000GJF76W', 'B0001WW3F2', 'B0000296HA']\n",
      "A11D1KHM7DVOQK ['B0006HTPQ2', 'B0001MKU52', 'B0001FV35U', 'B00009L1RI', 'B00009L1V0']\n",
      "A2R6RA8FRBS608 ['B00006IW1X', 'B0001BVD1S', 'B000ASGFRE', 'B00009UHG7', 'B00076QAC4']\n",
      "AWPODHOB4GFWL ['B000E5CYW8', 'B0007Y79AI', 'B00006HSML', 'B000C7GM4O', 'B0001WHYGU']\n",
      "A1ODOGXEYECQQ8 ['B000FOYMKU', 'B0000A0AJH', 'B0009RKL6M', 'B0001F22PA', 'B000I1ZWRC']\n",
      "A25HBO5V8S8SEA ['B00006HCCS', 'B00006HCHH', 'B0000691IO', 'B0006OJG78', 'B0001A06GW']\n",
      "A1MJMYLRTZ76ZX ['B00005Y1Z6', 'B00004RC2E', 'B00004T0RC', 'B000FJP0QU', 'B0009H5VVM']\n",
      "A680RUE1FDO8B ['B0002CPBUK', 'B000FJ89UO', 'B000HCRVQ2', 'B000GK8LVE', 'B000EVM5DU']\n",
      "A1435P5AMCPB3X ['B00005O784', 'B0000659UN', 'B000F3H9UG', 'B00000JF4L', 'B000AAQQBC']\n",
      "AT6CZDCP4TRGA ['B00006J6RN', 'B0002KVQBA', 'B000HZBR64', 'B0001U6RNI', 'B0006G0RSI']\n",
      "AGXV8E7XK9J6H ['B00005QBUU', 'B0001D3K8A', 'B000EXRSVM', 'B0000AE67H', 'B0009QU636']\n",
      "A12DLJESJKM1OQ ['B00006F2MW', 'B000087L74', 'B00005N6KF', 'B00008IOEJ', 'B000087LII']\n",
      "A2AEZQ3DGBBLPR ['B000071NY3', 'B00008ZPNR', 'B00008IHQO', 'B00001OPK2', 'B000063SAT']\n",
      "A2AY4YUOX2N1BQ ['B0007Y791C', 'B0002LEMWE', 'B000EPHSLK', 'B00009XVOF', 'B000DZDTKU']\n",
      "A2XRMQA6PJ5ZJ8 ['B00015GYU4', 'B0000632FZ', 'B0000CD0B7', 'B000FPIUBQ', 'B00005LENO']\n",
      "A250AXLRBVYKB4 ['B0002L5R78', 'B00066IJPQ', 'B00020T522', 'B000233ZMU', 'B0007Y836W']\n",
      "ALUNVOQRXOZIA ['B00004SB92', 'B00005A0R8', 'B00000JI2C', 'B00000J0A2', 'B000EVS4YE']\n",
      "A1F9Z42CFF9IAY ['B0000AKVHF', 'B00008OE6I', 'B00004SB92', 'B0002LEMWE', 'B000062VUO']\n",
      "A7Y6AVS576M03 ['B000050AQ7', 'B000BQ7GW8', 'B00005R867', 'B00005A0QV', 'B00005ATMI']\n",
      "AGHZXQL9F94T9 ['B00008OE46', 'B00008L3HY', 'B00008J6VW', 'B0001A99MO', 'B0000645C9']\n",
      "A1FR68QH6Z4YZM ['B0002Y6DGO', 'B00006JI6U', 'B000182FHW', 'B0000C4E4S', 'B000GHTGES']\n",
      "A231WM2Z2JL0U3 ['B00004RC2D', 'B00006HCCK', 'B00004SB92', 'B000066E70', 'B0000APSKB']\n",
      "A1RPTVW5VEOSI ['B00009W5FF', 'B000EVSLRO', 'B00000J061', 'B00004WCBU', 'B00006592V']\n",
      "A38QEATH3NODFM ['B000ELC148', 'B00009QSET', 'B000FNJYZO', 'B00004TWM3', 'B000E168E2']\n",
      "A2BGZ52M908MJY ['B00005QJCU', 'B0000365CI', 'B00004U0FD', 'B00004U0D8', 'B00004U1TP']\n",
      "A3OXHLG6DIBRW8 ['B000067VBL', 'B00008VF63', 'B0002L5R78', 'B00006JQLB', 'B000BY8BW4']\n",
      "A1VQHH85U7PX0 ['B00009R6GE', 'B000BKJZ9Q', 'B000BUK7KW', 'B0000A1G05', 'B0000BZL5A']\n",
      "A149RNR5RH19YY ['B000089GN3', 'B00009RL1W', 'B0002DV9CS', 'B0000DFZ67', 'B0002UBDDG']\n"
     ]
    }
   ],
   "source": [
    "#Top 5 recommendations per user\n",
    "top_n = get_top_n(predictions, n=5)\n",
    "for uid, user_ratings in top_n.items():\n",
    "    print(uid, [iid for (iid, _) in user_ratings])"
   ]
  },
  {
   "cell_type": "code",
   "execution_count": 35,
   "metadata": {},
   "outputs": [],
   "source": [
    "#8. Summarise your insights. - (7.5 marks)"
   ]
  },
  {
   "cell_type": "markdown",
   "metadata": {},
   "source": [
    "- The Popularity-based recommender system is a non-personalised recommender system and these are based on frequecy counts, which may be not suitable to the user. The Popularity based model has recommended the same set of 5 products to both but Collaborative Filtering based model has recommended entire different list based on the user past purchase history. However popularity based system is good way to start recommendation system when we do not have user choices , item characteristics available with us\n",
    "\n",
    "- Model-based Collaborative Filtering is a personalised recommender system, the recommendations are based on the past behavior of the user.\n",
    "\n",
    "- Matrix based SVD system has givem model with least RMSE. "
   ]
  }
 ],
 "metadata": {
  "kernelspec": {
   "display_name": "Python 3",
   "language": "python",
   "name": "python3"
  },
  "language_info": {
   "codemirror_mode": {
    "name": "ipython",
    "version": 3
   },
   "file_extension": ".py",
   "mimetype": "text/x-python",
   "name": "python",
   "nbconvert_exporter": "python",
   "pygments_lexer": "ipython3",
   "version": "3.7.3"
  }
 },
 "nbformat": 4,
 "nbformat_minor": 2
}
